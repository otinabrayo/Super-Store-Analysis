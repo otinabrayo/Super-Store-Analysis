{
 "cells": [
  {
   "cell_type": "markdown",
   "id": "2c9aaa95-0375-45c2-a16d-95114b6eef26",
   "metadata": {},
   "source": [
    "## Importing packages and the data"
   ]
  },
  {
   "cell_type": "code",
   "execution_count": 1,
   "id": "6cb9cb06-7fa9-489b-8ded-1326ce3536a7",
   "metadata": {},
   "outputs": [],
   "source": [
    "%matplotlib inline\n",
    "import pandas as pd\n",
    "import numpy as np"
   ]
  },
  {
   "cell_type": "code",
   "execution_count": 2,
   "id": "4fe34fed-0817-4aaf-abd6-e576e97d0236",
   "metadata": {},
   "outputs": [],
   "source": [
    "super_store = pd.read_csv(\"super_store.csv\")"
   ]
  },
  {
   "cell_type": "code",
   "execution_count": 3,
   "id": "4f43e41c-e06f-4411-882d-0c7d18562dba",
   "metadata": {},
   "outputs": [
    {
     "data": {
      "text/html": [
       "<div>\n",
       "<style scoped>\n",
       "    .dataframe tbody tr th:only-of-type {\n",
       "        vertical-align: middle;\n",
       "    }\n",
       "\n",
       "    .dataframe tbody tr th {\n",
       "        vertical-align: top;\n",
       "    }\n",
       "\n",
       "    .dataframe thead th {\n",
       "        text-align: right;\n",
       "    }\n",
       "</style>\n",
       "<table border=\"1\" class=\"dataframe\">\n",
       "  <thead>\n",
       "    <tr style=\"text-align: right;\">\n",
       "      <th></th>\n",
       "      <th>Row ID</th>\n",
       "      <th>Order ID</th>\n",
       "      <th>Order Date</th>\n",
       "      <th>Ship Date</th>\n",
       "      <th>Ship Mode</th>\n",
       "      <th>Customer ID</th>\n",
       "      <th>Customer Name</th>\n",
       "      <th>Segment</th>\n",
       "      <th>Country</th>\n",
       "      <th>City</th>\n",
       "      <th>...</th>\n",
       "      <th>Postal Code</th>\n",
       "      <th>Region</th>\n",
       "      <th>Product ID</th>\n",
       "      <th>Category</th>\n",
       "      <th>Sub-Category</th>\n",
       "      <th>Product Name</th>\n",
       "      <th>Sales</th>\n",
       "      <th>Quantity</th>\n",
       "      <th>Discount</th>\n",
       "      <th>Profit</th>\n",
       "    </tr>\n",
       "  </thead>\n",
       "  <tbody>\n",
       "    <tr>\n",
       "      <th>0</th>\n",
       "      <td>7</td>\n",
       "      <td>CA-2014-115812</td>\n",
       "      <td>09-Jun-14</td>\n",
       "      <td>14-Jun-14</td>\n",
       "      <td>Standard Class</td>\n",
       "      <td>BH-11710</td>\n",
       "      <td>Brosina Hoffman</td>\n",
       "      <td>Consumer</td>\n",
       "      <td>United States</td>\n",
       "      <td>Los Angeles</td>\n",
       "      <td>...</td>\n",
       "      <td>90032</td>\n",
       "      <td>West</td>\n",
       "      <td>OFF-AR-10002833</td>\n",
       "      <td>Office Supplies</td>\n",
       "      <td>Art</td>\n",
       "      <td>Newell 322</td>\n",
       "      <td>7.28</td>\n",
       "      <td>4</td>\n",
       "      <td>0.0</td>\n",
       "      <td>1.9656</td>\n",
       "    </tr>\n",
       "    <tr>\n",
       "      <th>1</th>\n",
       "      <td>10</td>\n",
       "      <td>CA-2014-115812</td>\n",
       "      <td>09-Jun-14</td>\n",
       "      <td>14-Jun-14</td>\n",
       "      <td>Standard Class</td>\n",
       "      <td>BH-11710</td>\n",
       "      <td>Brosina Hoffman</td>\n",
       "      <td>Consumer</td>\n",
       "      <td>United States</td>\n",
       "      <td>Los Angeles</td>\n",
       "      <td>...</td>\n",
       "      <td>90032</td>\n",
       "      <td>West</td>\n",
       "      <td>OFF-AP-10002892</td>\n",
       "      <td>Office Supplies</td>\n",
       "      <td>Appliances</td>\n",
       "      <td>Belkin F5C206VTEL 6 Outlet Surge</td>\n",
       "      <td>114.90</td>\n",
       "      <td>5</td>\n",
       "      <td>0.0</td>\n",
       "      <td>34.4700</td>\n",
       "    </tr>\n",
       "    <tr>\n",
       "      <th>2</th>\n",
       "      <td>172</td>\n",
       "      <td>CA-2014-118962</td>\n",
       "      <td>05-Aug-14</td>\n",
       "      <td>09-Aug-14</td>\n",
       "      <td>Standard Class</td>\n",
       "      <td>CS-12130</td>\n",
       "      <td>Chad Sievert</td>\n",
       "      <td>Consumer</td>\n",
       "      <td>United States</td>\n",
       "      <td>Los Angeles</td>\n",
       "      <td>...</td>\n",
       "      <td>90004</td>\n",
       "      <td>West</td>\n",
       "      <td>OFF-PA-10000659</td>\n",
       "      <td>Office Supplies</td>\n",
       "      <td>Paper</td>\n",
       "      <td>Adams Phone Message Book, Professional, 400 Me...</td>\n",
       "      <td>20.94</td>\n",
       "      <td>3</td>\n",
       "      <td>0.0</td>\n",
       "      <td>9.8418</td>\n",
       "    </tr>\n",
       "    <tr>\n",
       "      <th>3</th>\n",
       "      <td>173</td>\n",
       "      <td>CA-2014-118962</td>\n",
       "      <td>05-Aug-14</td>\n",
       "      <td>09-Aug-14</td>\n",
       "      <td>Standard Class</td>\n",
       "      <td>CS-12130</td>\n",
       "      <td>Chad Sievert</td>\n",
       "      <td>Consumer</td>\n",
       "      <td>United States</td>\n",
       "      <td>Los Angeles</td>\n",
       "      <td>...</td>\n",
       "      <td>90004</td>\n",
       "      <td>West</td>\n",
       "      <td>OFF-PA-10001144</td>\n",
       "      <td>Office Supplies</td>\n",
       "      <td>Paper</td>\n",
       "      <td>Xerox 1913</td>\n",
       "      <td>110.96</td>\n",
       "      <td>2</td>\n",
       "      <td>0.0</td>\n",
       "      <td>53.2608</td>\n",
       "    </tr>\n",
       "    <tr>\n",
       "      <th>4</th>\n",
       "      <td>1143</td>\n",
       "      <td>CA-2014-146969</td>\n",
       "      <td>29-Sep-14</td>\n",
       "      <td>03-Oct-14</td>\n",
       "      <td>Standard Class</td>\n",
       "      <td>AP-10915</td>\n",
       "      <td>Arthur Prichep</td>\n",
       "      <td>Consumer</td>\n",
       "      <td>United States</td>\n",
       "      <td>Los Angeles</td>\n",
       "      <td>...</td>\n",
       "      <td>90045</td>\n",
       "      <td>West</td>\n",
       "      <td>OFF-FA-10001561</td>\n",
       "      <td>Office Supplies</td>\n",
       "      <td>Fasteners</td>\n",
       "      <td>Stockwell Push Pins</td>\n",
       "      <td>8.72</td>\n",
       "      <td>4</td>\n",
       "      <td>0.0</td>\n",
       "      <td>2.8776</td>\n",
       "    </tr>\n",
       "  </tbody>\n",
       "</table>\n",
       "<p>5 rows × 21 columns</p>\n",
       "</div>"
      ],
      "text/plain": [
       "   Row ID        Order ID Order Date  Ship Date       Ship Mode Customer ID  \\\n",
       "0       7  CA-2014-115812  09-Jun-14  14-Jun-14  Standard Class    BH-11710   \n",
       "1      10  CA-2014-115812  09-Jun-14  14-Jun-14  Standard Class    BH-11710   \n",
       "2     172  CA-2014-118962  05-Aug-14  09-Aug-14  Standard Class    CS-12130   \n",
       "3     173  CA-2014-118962  05-Aug-14  09-Aug-14  Standard Class    CS-12130   \n",
       "4    1143  CA-2014-146969  29-Sep-14  03-Oct-14  Standard Class    AP-10915   \n",
       "\n",
       "     Customer Name   Segment        Country         City  ... Postal Code  \\\n",
       "0  Brosina Hoffman  Consumer  United States  Los Angeles  ...       90032   \n",
       "1  Brosina Hoffman  Consumer  United States  Los Angeles  ...       90032   \n",
       "2     Chad Sievert  Consumer  United States  Los Angeles  ...       90004   \n",
       "3     Chad Sievert  Consumer  United States  Los Angeles  ...       90004   \n",
       "4   Arthur Prichep  Consumer  United States  Los Angeles  ...       90045   \n",
       "\n",
       "   Region       Product ID         Category Sub-Category  \\\n",
       "0    West  OFF-AR-10002833  Office Supplies          Art   \n",
       "1    West  OFF-AP-10002892  Office Supplies   Appliances   \n",
       "2    West  OFF-PA-10000659  Office Supplies        Paper   \n",
       "3    West  OFF-PA-10001144  Office Supplies        Paper   \n",
       "4    West  OFF-FA-10001561  Office Supplies    Fasteners   \n",
       "\n",
       "                                        Product Name   Sales  Quantity  \\\n",
       "0                                         Newell 322    7.28         4   \n",
       "1                   Belkin F5C206VTEL 6 Outlet Surge  114.90         5   \n",
       "2  Adams Phone Message Book, Professional, 400 Me...   20.94         3   \n",
       "3                                         Xerox 1913  110.96         2   \n",
       "4                                Stockwell Push Pins    8.72         4   \n",
       "\n",
       "   Discount   Profit  \n",
       "0       0.0   1.9656  \n",
       "1       0.0  34.4700  \n",
       "2       0.0   9.8418  \n",
       "3       0.0  53.2608  \n",
       "4       0.0   2.8776  \n",
       "\n",
       "[5 rows x 21 columns]"
      ]
     },
     "execution_count": 3,
     "metadata": {},
     "output_type": "execute_result"
    }
   ],
   "source": [
    "# Table confirmation\n",
    "super_store.head()"
   ]
  },
  {
   "cell_type": "markdown",
   "id": "1198c230-4f7b-4bc4-a09f-e2e115e080f5",
   "metadata": {},
   "source": [
    "# 1. Cleaning and Preparing the Data\n",
    "### Finding nulls "
   ]
  },
  {
   "cell_type": "code",
   "execution_count": 4,
   "id": "46a83734-6cf5-47bb-88a4-1a1757a6b462",
   "metadata": {},
   "outputs": [
    {
     "data": {
      "text/plain": [
       "Row ID           0\n",
       "Order ID         0\n",
       "Order Date       0\n",
       "Ship Date        0\n",
       "Ship Mode        0\n",
       "Customer ID      0\n",
       "Customer Name    0\n",
       "Segment          0\n",
       "Country          0\n",
       "City             0\n",
       "State            0\n",
       "Postal Code      0\n",
       "Region           0\n",
       "Product ID       0\n",
       "Category         0\n",
       "Sub-Category     0\n",
       "Product Name     0\n",
       "Sales            0\n",
       "Quantity         0\n",
       "Discount         0\n",
       "Profit           0\n",
       "dtype: int64"
      ]
     },
     "execution_count": 4,
     "metadata": {},
     "output_type": "execute_result"
    }
   ],
   "source": [
    "super_store.isnull().sum()"
   ]
  },
  {
   "cell_type": "markdown",
   "id": "d1f8ef3d-49e6-4a04-8af7-f76a2ea8deea",
   "metadata": {},
   "source": [
    "* So no NULLS available in the data"
   ]
  },
  {
   "cell_type": "markdown",
   "id": "2d23c64b-cba9-49b4-922b-5a8487a6d060",
   "metadata": {},
   "source": [
    "### Finding duplicates\n",
    "* First run `duplicated()` then `duplicated(keep=False)`  And see the length diff to determine if their is duplicates"
   ]
  },
  {
   "cell_type": "code",
   "execution_count": 5,
   "id": "b2524588-d10e-4a00-b4d6-b931c449f77c",
   "metadata": {},
   "outputs": [
    {
     "data": {
      "text/plain": [
       "0       False\n",
       "1       False\n",
       "2       False\n",
       "3       False\n",
       "4       False\n",
       "        ...  \n",
       "1988    False\n",
       "1989    False\n",
       "1990    False\n",
       "1991    False\n",
       "1992    False\n",
       "Length: 1993, dtype: bool"
      ]
     },
     "execution_count": 5,
     "metadata": {},
     "output_type": "execute_result"
    }
   ],
   "source": [
    "super_store.duplicated()\n",
    "# super_store.duplicated(keep = False)"
   ]
  },
  {
   "cell_type": "markdown",
   "id": "c867289d-f8ca-4fa8-8f1b-d951a860d341",
   "metadata": {},
   "source": [
    "* No duplicates in the data since the Length: 1993 was in both entries"
   ]
  },
  {
   "cell_type": "markdown",
   "id": "0609e758-abfc-4c00-8ec3-2cd5e63a8f5c",
   "metadata": {},
   "source": [
    "### Cheking Datatypes correctness"
   ]
  },
  {
   "cell_type": "code",
   "execution_count": 6,
   "id": "4803970d-8405-46c5-832e-bf4d59c78a96",
   "metadata": {},
   "outputs": [
    {
     "data": {
      "text/plain": [
       "Row ID             int64\n",
       "Order ID          object\n",
       "Order Date        object\n",
       "Ship Date         object\n",
       "Ship Mode         object\n",
       "Customer ID       object\n",
       "Customer Name     object\n",
       "Segment           object\n",
       "Country           object\n",
       "City              object\n",
       "State             object\n",
       "Postal Code        int64\n",
       "Region            object\n",
       "Product ID        object\n",
       "Category          object\n",
       "Sub-Category      object\n",
       "Product Name      object\n",
       "Sales            float64\n",
       "Quantity           int64\n",
       "Discount         float64\n",
       "Profit           float64\n",
       "dtype: object"
      ]
     },
     "execution_count": 6,
     "metadata": {},
     "output_type": "execute_result"
    }
   ],
   "source": [
    "super_store.dtypes"
   ]
  },
  {
   "cell_type": "markdown",
   "id": "7ccb98b2-8e21-47f8-9fbe-8ebd618bcd0b",
   "metadata": {},
   "source": [
    "### Changing date columns to correct format and confirming them"
   ]
  },
  {
   "cell_type": "code",
   "execution_count": 7,
   "id": "99dccf82-3e5e-4e78-9c84-b078acd6ae00",
   "metadata": {},
   "outputs": [],
   "source": [
    "super_store[\"Ship Date\"] = pd.to_datetime(super_store[\"Ship Date\"], format = '%d-%b-%y')"
   ]
  },
  {
   "cell_type": "code",
   "execution_count": 8,
   "id": "3c4adbb2-0e9c-4f3a-95bc-1144ca37ca1b",
   "metadata": {},
   "outputs": [],
   "source": [
    "super_store[\"Order Date\"] = pd.to_datetime(super_store[\"Order Date\"], format = '%d-%b-%y')"
   ]
  },
  {
   "cell_type": "code",
   "execution_count": 9,
   "id": "a7be8d9a-bdf8-4132-95fe-d0bdacbd4a19",
   "metadata": {},
   "outputs": [
    {
     "data": {
      "text/plain": [
       "Row ID                    int64\n",
       "Order ID                 object\n",
       "Order Date       datetime64[ns]\n",
       "Ship Date        datetime64[ns]\n",
       "Ship Mode                object\n",
       "Customer ID              object\n",
       "Customer Name            object\n",
       "Segment                  object\n",
       "Country                  object\n",
       "City                     object\n",
       "State                    object\n",
       "Postal Code               int64\n",
       "Region                   object\n",
       "Product ID               object\n",
       "Category                 object\n",
       "Sub-Category             object\n",
       "Product Name             object\n",
       "Sales                   float64\n",
       "Quantity                  int64\n",
       "Discount                float64\n",
       "Profit                  float64\n",
       "dtype: object"
      ]
     },
     "execution_count": 9,
     "metadata": {},
     "output_type": "execute_result"
    }
   ],
   "source": [
    "# super_store.head()\n",
    "super_store.dtypes"
   ]
  },
  {
   "cell_type": "markdown",
   "id": "da5fd7df-76d7-4fae-a193-ed18ea79ae05",
   "metadata": {},
   "source": [
    "# 2. Sales Performance Analysation"
   ]
  },
  {
   "cell_type": "markdown",
   "id": "d96f6be7-5efa-45cd-82e1-b44f0ca0ec6d",
   "metadata": {},
   "source": [
    "#### Total Sales"
   ]
  },
  {
   "cell_type": "code",
   "execution_count": 10,
   "id": "29d7bc03-b75e-4afe-9594-f1fdf46b167e",
   "metadata": {},
   "outputs": [
    {
     "name": "stdout",
     "output_type": "stream",
     "text": [
      "484247.5\n"
     ]
    }
   ],
   "source": [
    "total_sales = round(np.sum(super_store['Sales']), 2)\n",
    "print(total_sales)"
   ]
  },
  {
   "cell_type": "markdown",
   "id": "98b63c35-663b-4f0a-8e13-5effff117d67",
   "metadata": {},
   "source": [
    "#### Total quantity"
   ]
  },
  {
   "cell_type": "code",
   "execution_count": 11,
   "id": "61096e68-4c59-4d61-aa6f-2369820403b6",
   "metadata": {},
   "outputs": [
    {
     "name": "stdout",
     "output_type": "stream",
     "text": [
      "7581\n"
     ]
    }
   ],
   "source": [
    "total_quantity = np.sum(super_store['Quantity'])\n",
    "print(total_quantity)"
   ]
  },
  {
   "cell_type": "markdown",
   "id": "e0faf4c3-d0bf-4b96-ae3c-ce5f147729e0",
   "metadata": {},
   "source": [
    "#### Top 5 products by total sales"
   ]
  },
  {
   "cell_type": "code",
   "execution_count": 12,
   "id": "ebdc093d-4fc3-4020-8bc7-8ba5ad5093f2",
   "metadata": {},
   "outputs": [
    {
     "data": {
      "text/plain": [
       "1725    Cisco TelePresence System EX90 Videoconferenci...\n",
       "689                  Ibico EPK-21 Electric Binding System\n",
       "137           High Speed Automatic Electric Letter Opener\n",
       "1686            Lexmark MX611dhe Monochrome Laser Printer\n",
       "923     HP Designjet T520 Inkjet Large Format Printer ...\n",
       "Name: Product Name, dtype: object"
      ]
     },
     "execution_count": 12,
     "metadata": {},
     "output_type": "execute_result"
    }
   ],
   "source": [
    "top_5_products_by_sales = super_store.sort_values(by = 'Sales', ascending = False)['Product Name'].head()\n",
    "top_5_products_by_sales"
   ]
  },
  {
   "cell_type": "markdown",
   "id": "972eacb4-bcba-497e-8168-3a3b78cf00f6",
   "metadata": {},
   "source": [
    "### Region with highest revenue"
   ]
  },
  {
   "cell_type": "code",
   "execution_count": 13,
   "id": "9ddf0487-fd77-4631-9de1-3550b0b577e7",
   "metadata": {},
   "outputs": [
    {
     "name": "stdout",
     "output_type": "stream",
     "text": [
      "Region with Highest Revenue: West (147883.03)\n"
     ]
    }
   ],
   "source": [
    "regions = ['South', 'Central', 'West', 'East']\n",
    "rev_by_region ={region: round(np.sum(super_store['Sales'][super_store['Region'] == region]), 2) for region in regions}\n",
    "\n",
    "max_rev = max(rev_by_region, key=rev_by_region.get)\n",
    "print(f\"Region with Highest Revenue: {max_rev} ({rev_by_region[max_rev]})\")"
   ]
  },
  {
   "cell_type": "markdown",
   "id": "4ada98fa-811c-4e2e-8991-97ca6e2177dd",
   "metadata": {},
   "source": [
    "## Adding Month Column for Analysation"
   ]
  },
  {
   "cell_type": "code",
   "execution_count": 14,
   "id": "ef4d2703",
   "metadata": {},
   "outputs": [],
   "source": [
    "super_store[\"Month\"] = super_store[\"Order Date\"].dt.strftime(\"%B\")"
   ]
  },
  {
   "cell_type": "code",
   "execution_count": 15,
   "id": "3d237dc8-3bda-44dd-8ec7-b0d0b0c1b8f3",
   "metadata": {},
   "outputs": [
    {
     "data": {
      "text/html": [
       "<div>\n",
       "<style scoped>\n",
       "    .dataframe tbody tr th:only-of-type {\n",
       "        vertical-align: middle;\n",
       "    }\n",
       "\n",
       "    .dataframe tbody tr th {\n",
       "        vertical-align: top;\n",
       "    }\n",
       "\n",
       "    .dataframe thead th {\n",
       "        text-align: right;\n",
       "    }\n",
       "</style>\n",
       "<table border=\"1\" class=\"dataframe\">\n",
       "  <thead>\n",
       "    <tr style=\"text-align: right;\">\n",
       "      <th></th>\n",
       "      <th>Row ID</th>\n",
       "      <th>Order ID</th>\n",
       "      <th>Order Date</th>\n",
       "      <th>Ship Date</th>\n",
       "      <th>Ship Mode</th>\n",
       "      <th>Customer ID</th>\n",
       "      <th>Customer Name</th>\n",
       "      <th>Segment</th>\n",
       "      <th>Country</th>\n",
       "      <th>City</th>\n",
       "      <th>...</th>\n",
       "      <th>Region</th>\n",
       "      <th>Product ID</th>\n",
       "      <th>Category</th>\n",
       "      <th>Sub-Category</th>\n",
       "      <th>Product Name</th>\n",
       "      <th>Sales</th>\n",
       "      <th>Quantity</th>\n",
       "      <th>Discount</th>\n",
       "      <th>Profit</th>\n",
       "      <th>Month</th>\n",
       "    </tr>\n",
       "  </thead>\n",
       "  <tbody>\n",
       "    <tr>\n",
       "      <th>0</th>\n",
       "      <td>7</td>\n",
       "      <td>CA-2014-115812</td>\n",
       "      <td>2014-06-09</td>\n",
       "      <td>2014-06-14</td>\n",
       "      <td>Standard Class</td>\n",
       "      <td>BH-11710</td>\n",
       "      <td>Brosina Hoffman</td>\n",
       "      <td>Consumer</td>\n",
       "      <td>United States</td>\n",
       "      <td>Los Angeles</td>\n",
       "      <td>...</td>\n",
       "      <td>West</td>\n",
       "      <td>OFF-AR-10002833</td>\n",
       "      <td>Office Supplies</td>\n",
       "      <td>Art</td>\n",
       "      <td>Newell 322</td>\n",
       "      <td>7.28</td>\n",
       "      <td>4</td>\n",
       "      <td>0.0</td>\n",
       "      <td>1.9656</td>\n",
       "      <td>June</td>\n",
       "    </tr>\n",
       "    <tr>\n",
       "      <th>1</th>\n",
       "      <td>10</td>\n",
       "      <td>CA-2014-115812</td>\n",
       "      <td>2014-06-09</td>\n",
       "      <td>2014-06-14</td>\n",
       "      <td>Standard Class</td>\n",
       "      <td>BH-11710</td>\n",
       "      <td>Brosina Hoffman</td>\n",
       "      <td>Consumer</td>\n",
       "      <td>United States</td>\n",
       "      <td>Los Angeles</td>\n",
       "      <td>...</td>\n",
       "      <td>West</td>\n",
       "      <td>OFF-AP-10002892</td>\n",
       "      <td>Office Supplies</td>\n",
       "      <td>Appliances</td>\n",
       "      <td>Belkin F5C206VTEL 6 Outlet Surge</td>\n",
       "      <td>114.90</td>\n",
       "      <td>5</td>\n",
       "      <td>0.0</td>\n",
       "      <td>34.4700</td>\n",
       "      <td>June</td>\n",
       "    </tr>\n",
       "    <tr>\n",
       "      <th>2</th>\n",
       "      <td>172</td>\n",
       "      <td>CA-2014-118962</td>\n",
       "      <td>2014-08-05</td>\n",
       "      <td>2014-08-09</td>\n",
       "      <td>Standard Class</td>\n",
       "      <td>CS-12130</td>\n",
       "      <td>Chad Sievert</td>\n",
       "      <td>Consumer</td>\n",
       "      <td>United States</td>\n",
       "      <td>Los Angeles</td>\n",
       "      <td>...</td>\n",
       "      <td>West</td>\n",
       "      <td>OFF-PA-10000659</td>\n",
       "      <td>Office Supplies</td>\n",
       "      <td>Paper</td>\n",
       "      <td>Adams Phone Message Book, Professional, 400 Me...</td>\n",
       "      <td>20.94</td>\n",
       "      <td>3</td>\n",
       "      <td>0.0</td>\n",
       "      <td>9.8418</td>\n",
       "      <td>August</td>\n",
       "    </tr>\n",
       "    <tr>\n",
       "      <th>3</th>\n",
       "      <td>173</td>\n",
       "      <td>CA-2014-118962</td>\n",
       "      <td>2014-08-05</td>\n",
       "      <td>2014-08-09</td>\n",
       "      <td>Standard Class</td>\n",
       "      <td>CS-12130</td>\n",
       "      <td>Chad Sievert</td>\n",
       "      <td>Consumer</td>\n",
       "      <td>United States</td>\n",
       "      <td>Los Angeles</td>\n",
       "      <td>...</td>\n",
       "      <td>West</td>\n",
       "      <td>OFF-PA-10001144</td>\n",
       "      <td>Office Supplies</td>\n",
       "      <td>Paper</td>\n",
       "      <td>Xerox 1913</td>\n",
       "      <td>110.96</td>\n",
       "      <td>2</td>\n",
       "      <td>0.0</td>\n",
       "      <td>53.2608</td>\n",
       "      <td>August</td>\n",
       "    </tr>\n",
       "    <tr>\n",
       "      <th>4</th>\n",
       "      <td>1143</td>\n",
       "      <td>CA-2014-146969</td>\n",
       "      <td>2014-09-29</td>\n",
       "      <td>2014-10-03</td>\n",
       "      <td>Standard Class</td>\n",
       "      <td>AP-10915</td>\n",
       "      <td>Arthur Prichep</td>\n",
       "      <td>Consumer</td>\n",
       "      <td>United States</td>\n",
       "      <td>Los Angeles</td>\n",
       "      <td>...</td>\n",
       "      <td>West</td>\n",
       "      <td>OFF-FA-10001561</td>\n",
       "      <td>Office Supplies</td>\n",
       "      <td>Fasteners</td>\n",
       "      <td>Stockwell Push Pins</td>\n",
       "      <td>8.72</td>\n",
       "      <td>4</td>\n",
       "      <td>0.0</td>\n",
       "      <td>2.8776</td>\n",
       "      <td>September</td>\n",
       "    </tr>\n",
       "  </tbody>\n",
       "</table>\n",
       "<p>5 rows × 22 columns</p>\n",
       "</div>"
      ],
      "text/plain": [
       "   Row ID        Order ID Order Date  Ship Date       Ship Mode Customer ID  \\\n",
       "0       7  CA-2014-115812 2014-06-09 2014-06-14  Standard Class    BH-11710   \n",
       "1      10  CA-2014-115812 2014-06-09 2014-06-14  Standard Class    BH-11710   \n",
       "2     172  CA-2014-118962 2014-08-05 2014-08-09  Standard Class    CS-12130   \n",
       "3     173  CA-2014-118962 2014-08-05 2014-08-09  Standard Class    CS-12130   \n",
       "4    1143  CA-2014-146969 2014-09-29 2014-10-03  Standard Class    AP-10915   \n",
       "\n",
       "     Customer Name   Segment        Country         City  ... Region  \\\n",
       "0  Brosina Hoffman  Consumer  United States  Los Angeles  ...   West   \n",
       "1  Brosina Hoffman  Consumer  United States  Los Angeles  ...   West   \n",
       "2     Chad Sievert  Consumer  United States  Los Angeles  ...   West   \n",
       "3     Chad Sievert  Consumer  United States  Los Angeles  ...   West   \n",
       "4   Arthur Prichep  Consumer  United States  Los Angeles  ...   West   \n",
       "\n",
       "        Product ID         Category Sub-Category  \\\n",
       "0  OFF-AR-10002833  Office Supplies          Art   \n",
       "1  OFF-AP-10002892  Office Supplies   Appliances   \n",
       "2  OFF-PA-10000659  Office Supplies        Paper   \n",
       "3  OFF-PA-10001144  Office Supplies        Paper   \n",
       "4  OFF-FA-10001561  Office Supplies    Fasteners   \n",
       "\n",
       "                                        Product Name   Sales Quantity  \\\n",
       "0                                         Newell 322    7.28        4   \n",
       "1                   Belkin F5C206VTEL 6 Outlet Surge  114.90        5   \n",
       "2  Adams Phone Message Book, Professional, 400 Me...   20.94        3   \n",
       "3                                         Xerox 1913  110.96        2   \n",
       "4                                Stockwell Push Pins    8.72        4   \n",
       "\n",
       "   Discount   Profit      Month  \n",
       "0       0.0   1.9656       June  \n",
       "1       0.0  34.4700       June  \n",
       "2       0.0   9.8418     August  \n",
       "3       0.0  53.2608     August  \n",
       "4       0.0   2.8776  September  \n",
       "\n",
       "[5 rows x 22 columns]"
      ]
     },
     "execution_count": 15,
     "metadata": {},
     "output_type": "execute_result"
    }
   ],
   "source": [
    "super_store.head()"
   ]
  },
  {
   "cell_type": "markdown",
   "id": "277f5fff-228d-4dc9-8ca8-5b908ce2f1d8",
   "metadata": {},
   "source": [
    "### Saving the cleaned data"
   ]
  },
  {
   "cell_type": "code",
   "execution_count": 16,
   "id": "ce0588fb",
   "metadata": {},
   "outputs": [],
   "source": [
    "super_store.to_csv('SuperStore_2014.csv', index = False)"
   ]
  },
  {
   "cell_type": "code",
   "execution_count": null,
   "id": "488cba6b",
   "metadata": {},
   "outputs": [],
   "source": []
  }
 ],
 "metadata": {
  "kernelspec": {
   "display_name": "Python 3 (ipykernel)",
   "language": "python",
   "name": "python3"
  },
  "language_info": {
   "codemirror_mode": {
    "name": "ipython",
    "version": 3
   },
   "file_extension": ".py",
   "mimetype": "text/x-python",
   "name": "python",
   "nbconvert_exporter": "python",
   "pygments_lexer": "ipython3",
   "version": "3.13.2"
  },
  "widgets": {
   "application/vnd.jupyter.widget-state+json": {
    "state": {},
    "version_major": 2,
    "version_minor": 0
   }
  }
 },
 "nbformat": 4,
 "nbformat_minor": 5
}
